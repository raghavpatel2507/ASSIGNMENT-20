{
 "cells": [
  {
   "cell_type": "code",
   "execution_count": null,
   "id": "3d2678c1-f094-4f92-99ed-3d288d178ecd",
   "metadata": {},
   "outputs": [],
   "source": [
    "#q-1\n",
    "A t-test is used when the sample size is small (typically less than 30) or when the population standard deviation is unknown. It is based on the t-distribution and is used to test hypotheses about the means of two populations or to compare a sample mean to a known population mean. For example, suppose you want to determine if there is a significant difference in the mean scores of two groups of students who underwent different teaching methods. A t-test would be appropriate in this scenario.\n",
    "\n",
    "On the other hand, a z-test is used when the sample size is large (typically greater than 30) or when the population standard deviation is known. It is based on the standard normal distribution and is used to test hypotheses about the means of two populations or to compare a sample mean to a known population mean. For instance, if you want to investigate whether the average height of a random sample of individuals differs significantly from the average height of the general population (where the population standard deviation is known), a z-test would be suitable.\n",
    "\n",
    "In summary, use a t-test when the sample size is small or the population standard deviation is unknown, and use a z-test when the sample size is large or the population standard deviation is known.\n"
   ]
  },
  {
   "cell_type": "code",
   "execution_count": null,
   "id": "3ea25683-328f-4c31-b1c3-30617641ac9e",
   "metadata": {},
   "outputs": [],
   "source": [
    "#q-2\n",
    "One-tailed test:\n",
    "\n",
    "A one-tailed test is used when the alternative hypothesis focuses on a specific direction of the effect or difference.\n",
    "It tests whether the sample data significantly supports the claim of a relationship or difference in one specific direction.\n",
    "The critical region is defined on only one side of the distribution.\n",
    "It is more powerful in detecting an effect in a specific direction but cannot detect an effect in the opposite direction.\n",
    "Example scenario: Suppose you want to test if a new drug improves test performance. The one-tailed hypothesis would be that the new drug increases test scores compared to a control group.\n"
   ]
  },
  {
   "cell_type": "code",
   "execution_count": null,
   "id": "d0e6b840-0eff-4b8b-bed2-00ab62f7366e",
   "metadata": {},
   "outputs": [],
   "source": [
    "\n",
    "Two-tailed test:\n",
    "\n",
    "A two-tailed test is used when the alternative hypothesis does not specify a particular direction of the effect or difference.\n",
    "It tests whether the sample data significantly supports the claim of a relationship or difference in any direction.\n",
    "The critical region is divided equally on both sides of the distribution.\n",
    "It can detect effects in either direction and is appropriate when you want to determine if there is any significant difference.\n",
    "Example scenario: Consider testing if a coin is fair. The two-tailed hypothesis would be that the coin does not have an equal probability of landing on heads or tails.\n"
   ]
  },
  {
   "cell_type": "code",
   "execution_count": null,
   "id": "e7683957-74b5-4d38-b843-b2aee29a0961",
   "metadata": {},
   "outputs": [],
   "source": [
    "#q-3\n",
    "Type 1 error:\n",
    "\n",
    "A Type 1 error occurs when the null hypothesis is rejected, but it is actually true. In other words, it is a false positive.\n",
    "It indicates a situation where we conclude there is a significant effect or relationship when, in reality, there is none.\n",
    "The probability of committing a Type 1 error is denoted as alpha (α) and is typically set as the significance level, such as 0.05 or 0.01.\n",
    "Example scenario: Let's say a new medical treatment is being tested, and the null hypothesis states that the treatment has no effect. If we reject the null hypothesis based on the data and conclude that the treatment is effective when, in fact, it is not, it would be a Type 1 error.\n",
    "\n",
    "Type 2 error:\n",
    "\n",
    "A Type 2 error occurs when the null hypothesis is not rejected, but it is actually false. In other words, it is a false negative.\n",
    "It indicates a situation where we fail to detect a significant effect or relationship when, in reality, there is one.\n",
    "The probability of committing a Type 2 error is denoted as beta (β).\n",
    "The power of a statistical test is equal to 1 - β and represents the probability of correctly rejecting a false null hypothesis.\n",
    "Example scenario: Continuing with the medical treatment example, if we fail to reject the null hypothesis and conclude that the treatment has no effect, even though it does have an effect, it would be a Type 2 error.\n"
   ]
  },
  {
   "cell_type": "code",
   "execution_count": null,
   "id": "e6954e91-9eb0-412a-914a-3e05d3d6a0f2",
   "metadata": {},
   "outputs": [],
   "source": [
    "#q-4\n",
    "Bayes's theorem is a fundamental concept in probability theory that allows us to update our beliefs or probabilities based on new evidence. It provides a way to calculate the conditional probability of an event given prior knowledge or information.\n",
    "\n",
    "Bayes's theorem can be stated as:\n",
    "\n",
    "P(A|B) = (P(B|A) * P(A)) / P(B)\n",
    "\n",
    "Where:\n",
    "\n",
    "P(A|B) represents the probability of event A occurring given that event B has occurred.\n",
    "P(B|A) is the probability of event B occurring given that event A has occurred.\n",
    "P(A) is the prior probability of event A.\n",
    "P(B) is the prior probability of event B.\n",
    "To illustrate Bayes's theorem, let's consider a medical example:\n",
    "\n",
    "Suppose there is a rare disease that affects 1 in every 10,000 people. A diagnostic test for this disease has been developed, which is 99% accurate in correctly identifying positive cases (true positives) and 98% accurate in correctly identifying negative cases (true negatives). You undergo this test and it comes back positive.\n",
    "\n",
    "Using Bayes's theorem, we can calculate the probability that you actually have the disease (P(A|B)), given that the test result is positive (B).\n",
    "\n",
    "Let's define the events:\n",
    "\n",
    "Event A: You have the disease.\n",
    "Event B: The test result is positive.\n",
    "Given:\n",
    "\n",
    "P(A) = 1/10,000 (prior probability of having the disease)\n",
    "P(B|A) = 0.99 (probability of a positive test result given you have the disease)\n",
    "P(B|~A) = 0.02 (probability of a positive test result given you don't have the disease, which is 1 - 0.98)\n",
    "Using Bayes's theorem:\n",
    "P(A|B) = (P(B|A) * P(A)) / P(B)\n",
    "\n",
    "P(A|B) = (0.99 * (1/10,000)) / [(0.99 * (1/10,000)) + (0.02 * (9,999/10,000))]\n",
    "\n",
    "After calculating this expression, we find that P(A|B) is approximately 0.047%"
   ]
  },
  {
   "cell_type": "code",
   "execution_count": null,
   "id": "04295d97-9a54-4afc-8b02-78d92fe0e8f3",
   "metadata": {},
   "outputs": [],
   "source": [
    "#q-5\n",
    "A confidence interval is a range of values that provides an estimate of the plausible range for an unknown population parameter, such as a population mean or proportion. It quantifies the uncertainty associated with the estimate by providing a lower and upper bound within which the true parameter value is likely to fall.\n",
    "\n",
    "To calculate a confidence interval, the following steps are generally followed:\n",
    "\n",
    "Determine the confidence level: The confidence level represents the desired level of certainty for the interval estimate, often expressed as a percentage (e.g., 95% confidence level).\n",
    "\n",
    "Collect a sample: Obtain a representative sample from the population of interest. The sample should be selected randomly to ensure it is unbiased.\n",
    "\n",
    "Calculate the sample statistic: Compute the sample statistic that corresponds to the parameter of interest. For example, if estimating a population mean, calculate the sample mean.\n",
    "\n",
    "Determine the standard error: The standard error is a measure of the variability or precision of the sample statistic. It depends on the sample size and the variability in the population. The standard error is typically estimated using the sample data.\n",
    "Choose the appropriate distribution: Depending on the sample size and the population distribution, select the appropriate probability distribution for constructing the interval. The most common distributions used are the normal distribution for large samples or the t-distribution for small samples.\n",
    "\n",
    "Calculate the margin of error: The margin of error represents the maximum amount by which the sample statistic is likely to deviate from the true population parameter. It is determined based on the chosen distribution and the desired confidence level. The margin of error is typically computed as the product of the critical value (obtained from the distribution) and the standard error.\n",
    "\n",
    "Determine the confidence interval: Finally, the confidence interval is calculated by adding and subtracting the margin of error from the sample statistic. This results in an interval that provides a plausible range for the population parameter.\n",
    "\n",
    "Example:\n",
    "Suppose you want to estimate the average height of a population of adults. You collect a random sample of 100 individuals and measure their heights. The sample mean height is 170 cm, and the standard deviation is 5 cm.\n",
    "\n",
    "To calculate a 95% confidence interval for the population mean height:\n",
    "\n",
    "Therefore, we can say with 95% confidence that the true average height of the population lies within the range of 169.02 cm to 170.98 cm based on the given sample data.\n"
   ]
  },
  {
   "cell_type": "code",
   "execution_count": null,
   "id": "a1b1e6dc-a9b5-4baf-ae7c-74a3f4a8145d",
   "metadata": {},
   "outputs": [],
   "source": [
    "#q-6\n",
    "Suppose there is a rare disease that affects 1 in every 1,000 people. There is a diagnostic test available for this disease, which is 95% accurate in correctly identifying positive cases (true positives) and 90% accurate in correctly identifying negative cases (true negatives). You have just taken this test, and it came back positive. Now, you want to calculate the probability that you actually have the disease given this positive test result.\n",
    "\n",
    "To calculate this probability using Bayes' Theorem, we need to define the events and known probabilities:\n",
    "\n",
    "Event A: Having the disease.\n",
    "Event B: Getting a positive test result.\n",
    "\n",
    "Given:\n",
    "P(A) = 1/1000 (prior probability of having the disease)\n",
    "P(B|A) = 0.95 (probability of a positive test result given you have the disease)\n",
    "P(B|~A) = 0.10 (probability of a positive test result given you don't have the disease, which is 1 - 0.90)\n",
    "P(A|B) = (P(B|A) * P(A)) / [P(B|A) * P(A) + P(B|~A) * P(~A)]\n",
    "\n",
    "P(A|B) = (0.95 * (1/1000)) / [(0.95 * (1/1000)) + (0.10 * (999/1000))]\n",
    "\n",
    "After calculating this expression, we find that P(A|B) is approximately 0.0094, or 0.94%. \n"
   ]
  },
  {
   "cell_type": "code",
   "execution_count": null,
   "id": "54268ee4-d6c1-4f32-ae0c-af1fdb6bd4ff",
   "metadata": {},
   "outputs": [],
   "source": [
    "#q-7\n",
    "Confidence Interval = Sample Mean ± (Critical Value * Standard Error)\n",
    " we find it to be approximately 1.96.\n",
    "not found the standard error.becusse not a given by sample size n.\n",
    "Confidence Interval = 50 ± (1.96 * 5)\n",
    "Confidence Interval = 50 ± 9.8"
   ]
  },
  {
   "cell_type": "code",
   "execution_count": null,
   "id": "465bacef-fe23-4b32-be03-a1af4357b9a4",
   "metadata": {},
   "outputs": [],
   "source": [
    "#q-8\n",
    "The margin of error in a confidence interval represents the maximum amount of error expected between the sample statistic (e.g., sample mean) and the true population parameter. It quantifies the precision or uncertainty associated with the estimate provided by the confidence interval.\n",
    "\n",
    "The margin of error is influenced by several factors, including the desired confidence level, sample size, and variability in the population. Generally, a higher confidence level requires a larger margin of error, as it increases the level of certainty in capturing the true population parameter.\n",
    "\n",
    "The sample size has an inverse relationship with the margin of error. As the sample size increases, the margin of error decreases. This is because a larger sample provides more information about the population and reduces sampling variability. With a larger sample, the estimate of the population parameter becomes more precise, resulting in a narrower confidence interval and a smaller margin of error.\n",
    "\n",
    "Suppose a research study aims to estimate the proportion of adults in a city who support a specific policy. They conduct two separate surveys with different sample sizes and calculate the corresponding 95% confidence intervals.\n",
    "\n",
    "Survey 1: The researchers sample 200 adults and find that 120 of them support the policy. Using this data, they calculate a 95% confidence interval for the proportion.\n",
    "\n",
    "Survey 2: In another round of data collection, the researchers sample 800 adults and find that 480 of them support the policy. They calculate a 95% confidence interval for this larger sample size.\n",
    "\n",
    "Given the same confidence level of 95%, we can expect that Survey 2 with a larger sample size will result in a smaller margin of error compared to Survey 1. This is because the larger sample size in Survey 2 provides more precise information about the population, reducing the uncertainty and resulting in a narrower confidence interval.\n",
    "\n",
    "In summary, a larger sample size generally leads to a smaller margin of error in a confidence interval estimation. It allows for a more precise estimate of the population parameter and increases confidence in the accuracy of the interval."
   ]
  },
  {
   "cell_type": "code",
   "execution_count": null,
   "id": "c35b33f9-d4b0-4648-85fd-7c2afd1681a2",
   "metadata": {},
   "outputs": [],
   "source": [
    "#q-9\n",
    "z = (x - μ) / σ\n",
    "z = (75 - 70) / 5\n",
    "z = 5 / 5\n",
    "z = 1\n"
   ]
  },
  {
   "cell_type": "code",
   "execution_count": null,
   "id": "594d2b52-cbf5-4fd6-8eee-45fb3bdc565d",
   "metadata": {},
   "outputs": [],
   "source": [
    "#q-10\n",
    "The null hypothesis (H₀) assumes that the weight loss drug is not significantly effective:\n",
    "H₀: The population mean weight loss (μ) is equal to or less than 0 pounds.\n",
    "0.05.\n",
    "t = (x̄ - μ₀) / (s / √n)\n",
    "In this scenario, x̄ (sample mean) = 6 pounds, μ₀ (hypothesized mean) = 0 pounds, s (sample standard deviation) = 2.5 pounds, and n (sample size) = 50.\n"
   ]
  },
  {
   "cell_type": "code",
   "execution_count": null,
   "id": "57aec68c-49aa-4633-a8c3-bcd91fec182a",
   "metadata": {},
   "outputs": [],
   "source": [
    "#q-11\n",
    "Confidence Interval = Sample Proportion ± (Critical Value * Standard Error)\n",
    "Standard Error = sqrt((p * (1 - p)) / n)\n",
    "where p is the sample proportion and n is the sample size.\n",
    "Standard Error = 0.0187\n",
    "Confidence Interval = 0.65 ± (1.96 * 0.0187)\n",
    "Confidence Interval = 0.65 ± 0.0366\n",
    "The 95% confidence interval for the true proportion of people who are satisfied with their job, based on the survey of 500 people, is approximately 0.6134 to 0.6866.\n"
   ]
  },
  {
   "cell_type": "code",
   "execution_count": null,
   "id": "19fad37e-99c1-4cbb-85e5-98d11ec88e88",
   "metadata": {},
   "outputs": [],
   "source": [
    "#q-12\n",
    "H₀: μ₁ - μ₂ = 0 \n",
    "H₁: μ₁ - μ₂ ≠ 0\n",
    "To calculate the test statistic for a two-sample t-test, we use the formula:\n",
    "t = (x̄₁ - x̄₂) / sqrt((s₁² / n₁) + (s₂² / n₂))\n",
    "In this scenario, for Sample A: x̄₁ = 85, s₁ = 6, and n₁ is not given.\n",
    "For Sample B: x̄₂ = 82, s₂ = 5, and n₂ is not given.\n",
    "To conduct a complete hypothesis test, we need the sample sizes (n₁ and n₂)."
   ]
  },
  {
   "cell_type": "code",
   "execution_count": null,
   "id": "4fcae528-203a-4584-a41d-4c973ec46774",
   "metadata": {},
   "outputs": [],
   "source": [
    "#q-13\n",
    "Confidence Interval = Sample Mean ± (Critical Value * Standard Error)\n",
    "Given that the population mean is 60, the sample size is 50, the sample mean is 65, and the population standard deviation is 8, we need to determine the critical value and the standard error.\n",
    "critical value=1.645.\n",
    "Standard Error = 1.131\n",
    "Confidence Interval = 65 ± (1.645 * 1.131)\n",
    "Confidence Interval = 65 ± 1.861\n",
    "this interval suggests that the true population mean is likely to be between 63.139 and 66.861, with a high level of confidence based on the given sample data.\n"
   ]
  },
  {
   "cell_type": "code",
   "execution_count": null,
   "id": "f3b9a54e-5577-4c12-8200-5107bcbd4556",
   "metadata": {},
   "outputs": [],
   "source": [
    "#q-14\n",
    "t = (x̄ - μ) / (s / √n)\n",
    "\n"
   ]
  }
 ],
 "metadata": {
  "kernelspec": {
   "display_name": "Python 3 (ipykernel)",
   "language": "python",
   "name": "python3"
  },
  "language_info": {
   "codemirror_mode": {
    "name": "ipython",
    "version": 3
   },
   "file_extension": ".py",
   "mimetype": "text/x-python",
   "name": "python",
   "nbconvert_exporter": "python",
   "pygments_lexer": "ipython3",
   "version": "3.10.8"
  }
 },
 "nbformat": 4,
 "nbformat_minor": 5
}
